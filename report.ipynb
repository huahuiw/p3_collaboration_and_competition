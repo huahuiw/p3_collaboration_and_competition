{
 "cells": [
  {
   "cell_type": "markdown",
   "metadata": {},
   "source": [
    "# Collaboration and Competition\n",
    "\n",
    "---\n",
    "\n",
    "In this notebook, you will learn how to use the Unity ML-Agents environment for the third project of the [Deep Reinforcement Learning Nanodegree](https://www.udacity.com/course/deep-reinforcement-learning-nanodegree--nd893) program.\n",
    "\n",
    "### 1. Start the Environment\n"
   ]
  },
  {
   "cell_type": "code",
   "execution_count": 1,
   "metadata": {},
   "outputs": [
    {
     "name": "stderr",
     "output_type": "stream",
     "text": [
      "INFO:unityagents:\n",
      "'Academy' started successfully!\n",
      "Unity Academy name: Academy\n",
      "        Number of Brains: 1\n",
      "        Number of External Brains : 1\n",
      "        Lesson number : 0\n",
      "        Reset Parameters :\n",
      "\t\t\n",
      "Unity brain name: TennisBrain\n",
      "        Number of Visual Observations (per agent): 0\n",
      "        Vector Observation space type: continuous\n",
      "        Vector Observation space size (per agent): 8\n",
      "        Number of stacked Vector Observation: 3\n",
      "        Vector Action space type: continuous\n",
      "        Vector Action space size (per agent): 2\n",
      "        Vector Action descriptions: , \n"
     ]
    }
   ],
   "source": [
    "from unityagents import UnityEnvironment\n",
    "import numpy as np\n",
    "\n",
    "env = UnityEnvironment(file_name=\"./Tennis_Windows_x86_64/Tennis.exe\", no_graphics = False)\n",
    "# get the default brain\n",
    "brain_name = env.brain_names[0]\n",
    "brain = env.brains[brain_name]"
   ]
  },
  {
   "cell_type": "markdown",
   "metadata": {},
   "source": [
    "### 2. Build and train the model\n",
    "\n",
    "A multi-agent DDPG algorithm is used in this implementation. Two agents each having an actor-critic neural network will share the replay buffer and learn from joint experiences. Both actor and critic networks have local and target networks to improve the training. Specifically, two hidden layers of (512, 256) are used for the actor networks and (512, 256) for the critic networks.The critic networks use joint observations and joint actions from both agents and the actor networks use only local observations from individual agents. The learning rate for the actor and critic networks are LR_ACTOR = 1e-4 and LR_CRITIC = 1e-3, respectively. \n",
    "\n",
    "At the beginning of the training, we increase the exploration of the agent by adding a Gaussian noise to the actions, with an original variance of 0.5. But the variance of the noise keeps reducing till 0.1 during the training process. A decaying factor of 0.999 is applied to the variance after each episode. \n",
    "\n",
    "Other details:\n",
    "Soft update is performed for the target network with a Tau value of 0.001.\n",
    "The buffer size for the replay buffer is set to be 1e6. The training is performed in batches of 256 experiences. The rewards are discounted with gamma = 0.99.\n"
   ]
  },
  {
   "cell_type": "code",
   "execution_count": 2,
   "metadata": {},
   "outputs": [
    {
     "name": "stdout",
     "output_type": "stream",
     "text": [
      "episode 50, average score: 0.017600000277161597, noise_sigma: 0.47560281409851574\n",
      "episode 100, average score: 0.0157000002451241, noise_sigma: 0.4523960735568548\n",
      "episode 150, average score: 0.014600000232458115, noise_sigma: 0.43032169134151843\n",
      "episode 200, average score: 0.009700000155717134, noise_sigma: 0.409324414739318\n",
      "episode 250, average score: 0.0020000000298023225, noise_sigma: 0.3893516870584952\n",
      "episode 300, average score: 0.0010000000149011613, noise_sigma: 0.37035351607804984\n",
      "episode 350, average score: 0.0010000000149011613, noise_sigma: 0.3522823489160005\n",
      "episode 400, average score: 0.006500000115484, noise_sigma: 0.33509295300337016\n",
      "episode 450, average score: 0.00830000014975667, noise_sigma: 0.3187423028659689\n",
      "episode 500, average score: 0.002800000049173832, noise_sigma: 0.3031894724305924\n",
      "episode 550, average score: 0.0020000000298023225, noise_sigma: 0.2883955325860681\n",
      "episode 600, average score: 0.004000000059604645, noise_sigma: 0.27432345374274825\n",
      "episode 650, average score: 0.0030000000447034836, noise_sigma: 0.26093801314655013\n",
      "episode 700, average score: 0.0009000000171363354, noise_sigma: 0.24820570671554945\n",
      "episode 750, average score: 0.005600000098347664, noise_sigma: 0.23609466517845223\n",
      "episode 800, average score: 0.017200000286102295, noise_sigma: 0.2245745743050374\n",
      "episode 850, average score: 0.02770000046119094, noise_sigma: 0.213616599028904\n",
      "episode 900, average score: 0.02870000049471855, noise_sigma: 0.20319331127260196\n",
      "episode 950, average score: 0.02380000041797757, noise_sigma: 0.19327862129449025\n",
      "episode 1000, average score: 0.022100000362843274, noise_sigma: 0.18384771238548175\n",
      "episode 1050, average score: 0.051500000786036254, noise_sigma: 0.1748769787522195\n",
      "episode 1100, average score: 0.06730000102892518, noise_sigma: 0.16634396643120383\n",
      "episode 1150, average score: 0.046100000757724045, noise_sigma: 0.15822731708597912\n",
      "episode 1200, average score: 0.04020000074058771, noise_sigma: 0.1505067145466996\n",
      "episode 1250, average score: 0.04420000083744526, noise_sigma: 0.14316283395826473\n",
      "episode 1300, average score: 0.04080000076442957, noise_sigma: 0.13617729340973853\n",
      "episode 1350, average score: 0.041600000746548176, noise_sigma: 0.12953260792398183\n",
      "episode 1400, average score: 0.05150000089779496, noise_sigma: 0.12321214569233088\n",
      "episode 1450, average score: 0.054800000935792924, noise_sigma: 0.11720008644477772\n",
      "episode 1500, average score: 0.08630000134930015, noise_sigma: 0.11148138185145114\n",
      "episode 1550, average score: 0.12940000196918844, noise_sigma: 0.10604171785628266\n",
      "episode 1600, average score: 0.1227000018581748, noise_sigma: 0.10086747884857773\n",
      "episode 1650, average score: 0.11200000166893005, noise_sigma: 0.1\n",
      "episode 1700, average score: 0.12300000183284282, noise_sigma: 0.1\n",
      "episode 1750, average score: 0.1310000019520521, noise_sigma: 0.1\n",
      "episode 1800, average score: 0.1309000019542873, noise_sigma: 0.1\n",
      "episode 1850, average score: 0.12490000186488032, noise_sigma: 0.1\n",
      "episode 1900, average score: 0.1310000019520521, noise_sigma: 0.1\n",
      "episode 1950, average score: 0.12590000187978148, noise_sigma: 0.1\n",
      "episode 2000, average score: 0.14830000225454568, noise_sigma: 0.1\n",
      "episode 2050, average score: 0.22040000332519413, noise_sigma: 0.1\n",
      "episode 2100, average score: 0.24250000363215804, noise_sigma: 0.1\n",
      "episode 2150, average score: 0.2137000032328069, noise_sigma: 0.1\n",
      "episode 2200, average score: 0.2393000036291778, noise_sigma: 0.1\n",
      "episode 2250, average score: 0.4099000061862171, noise_sigma: 0.1\n",
      "episode 2300, average score: 0.48530000733211637, noise_sigma: 0.1\n",
      "episode 2350, average score: 0.5416000081785023, noise_sigma: 0.1\n"
     ]
    }
   ],
   "source": [
    "TAU = 0.001\n",
    "GAMMA = 0.99\n",
    "LR_ACTOR = 1e-4\n",
    "LR_CRITIC = 1e-3\n",
    "BUFFER_SIZE = int(1e6)\n",
    "BATCH_SIZE = 256\n",
    "\n",
    "noise_sigma = 0.5\n",
    "noise_reduction = 0.999\n",
    "noise_min = 0.1\n",
    "\n",
    "n_episodes = 10000\n",
    "tmax = 1000\n",
    "\n",
    "\n",
    "from maddpg import MADDPG\n",
    "from collections import deque\n",
    "\n",
    "# number of agents \n",
    "num_agents = 2\n",
    "\n",
    "MA_agent = MADDPG(num_agents, state_size=24, action_size=2, buffer_size = BUFFER_SIZE, \\\n",
    "                  batch_size = BATCH_SIZE, lr_actor = LR_ACTOR, lr_critic = LR_CRITIC, sigma = noise_sigma)\n",
    "\n",
    "score_history= []\n",
    "score_window = deque(maxlen = 100)\n",
    "\n",
    "for i in range(1, n_episodes+1):\n",
    "    #print(i)\n",
    "    env_info = env.reset(train_mode=True)[brain_name]     # reset the environment    \n",
    "    states = env_info.vector_observations\n",
    "    scores = np.zeros(num_agents)\n",
    "    for t in range(tmax):\n",
    "        #print(t)\n",
    "        actions = MA_agent.act(states, training=True)\n",
    "        env_info = env.step(actions)[brain_name]           # send all actions to tne environment\n",
    "        next_states = env_info.vector_observations         # get next state (for each agent)\n",
    "        rewards = env_info.rewards                         # get reward (for each agent)\n",
    "        dones = env_info.local_done                        # see if episode finished\n",
    "        MA_agent.step(states, actions, rewards, next_states, dones)\n",
    "        scores += env_info.rewards                         # update the score (for each agent)\n",
    "        states = next_states                               # roll over states to next time step\n",
    "        if np.any(dones):\n",
    "            break\n",
    "    noise_sigma = max(noise_sigma*noise_reduction, noise_min)        \n",
    "    MA_agent.update_noise(noise_sigma)\n",
    "        \n",
    "    score_window.append(np.max(scores))\n",
    "    score_history.append(np.max(scores))\n",
    "    #print(i)\n",
    "    if (i%50)==0:\n",
    "        print('episode {}, average score: {}, noise_sigma: {}'.format(i, np.mean(score_window), noise_sigma))\n",
    "    if np.mean(score_window)>0.6:\n",
    "        MA_agent.save_weights()\n",
    "        break\n",
    "     \n",
    "        "
   ]
  },
  {
   "cell_type": "markdown",
   "metadata": {},
   "source": [
    "### Plot scores"
   ]
  },
  {
   "cell_type": "code",
   "execution_count": 3,
   "metadata": {},
   "outputs": [
    {
     "data": {
      "text/plain": [
       "Text(0, 0.5, 'score')"
      ]
     },
     "execution_count": 3,
     "metadata": {},
     "output_type": "execute_result"
    },
    {
     "data": {
      "image/png": "[encoded data removed]",
      "text/plain": [
       "<Figure size 432x288 with 1 Axes>"
      ]
     },
     "metadata": {
      "needs_background": "light"
     },
     "output_type": "display_data"
    }
   ],
   "source": [
    "import matplotlib.pyplot as plt\n",
    "%matplotlib inline\n",
    "plt.plot(score_history)\n",
    "plt.xlabel('# of episodes')\n",
    "plt.ylabel('score')"
   ]
  },
  {
   "cell_type": "markdown",
   "metadata": {},
   "source": [
    "### 3.Testing"
   ]
  },
  {
   "cell_type": "code",
   "execution_count": 10,
   "metadata": {},
   "outputs": [
    {
     "name": "stdout",
     "output_type": "stream",
     "text": [
      "Score: 2.7000000402331352\n"
     ]
    }
   ],
   "source": [
    "from maddpg import MADDPG\n",
    "\n",
    "agent_test = MADDPG(num_agents=2,state_size=24, action_size=2, sigma=0)\n",
    "agent_test.load_weights()\n",
    "\n",
    "env_info = env.reset(train_mode=False)[brain_name]\n",
    "states = env_info.vector_observations\n",
    "scores = np.zeros(agent_test.num_agents)\n",
    "\n",
    "while True:\n",
    "    actions = agent_test.act(states,training=False)        # select an action\\n\",\n",
    "    env_info = env.step(actions)[brain_name]        # send the action to the environment\\n\",\n",
    "    next_states = env_info.vector_observations   # get the next state\\n\",\n",
    "    rewards = env_info.rewards                   # get the reward\\n\",\n",
    "    dones = env_info.local_done                  # see if episode has finished\\n\",\n",
    "    scores += rewards                                # update the score\\n\",\n",
    "    states = next_states                             # roll over the state to next time step\\n\",\n",
    "    if np.any(dones):                                       # exit loop if episode finished\\n\",\n",
    "        break\n",
    "print(\"Score: {}\".format(np.max(scores)))"
   ]
  },
  {
   "cell_type": "markdown",
   "metadata": {},
   "source": [
    "### Future work\n",
    "\n",
    "Although multiple hyperparameters have been tried to improve the speed of convengence as well as the stability of the agents, including changing the structures of the actor/critic networks, learning rates, noise reductions, etc, the agents seem to learn very slowly. In this implementation, two agents perform local observations and execute locally. Two agents share the same replay buffer and use the joint observations/actions in their cirtic networks. As next steps, the following tricks can be tried, such as using prioritized replay experience, adding noise to the parameters instead of to the actions, using dropout in the critic networks, ect. Also, instead of using local critic networks, a centralized critic network can be tried to see if that will improve the training speed and stability more significantly. "
   ]
  }
 ],
 "metadata": {
  "kernelspec": {
   "display_name": "Python 3",
   "language": "python",
   "name": "python3"
  },
  "language_info": {
   "codemirror_mode": {
    "name": "ipython",
    "version": 3
   },
   "file_extension": ".py",
   "mimetype": "text/x-python",
   "name": "python",
   "nbconvert_exporter": "python",
   "pygments_lexer": "ipython3",
   "version": "3.6.10"
  }
 },
 "nbformat": 4,
 "nbformat_minor": 2
}
